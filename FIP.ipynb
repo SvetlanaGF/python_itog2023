{
 "cells": [
  {
   "cell_type": "code",
   "execution_count": 14,
   "id": "94f04420",
   "metadata": {},
   "outputs": [],
   "source": [
    "# Задача: Дана функция f(x) = (sin(x)/2 + cos(x)/2)^2 * sin(x)\\n\"\n",
    "# 1. Определить корни\n",
    "# 2. Найти интервалы, на которых функция возрастает\n",
    "# 3. Найти интервалы, на которых функция убывает\n",
    "# 4. Построить график\n",
    "# 5. Вычислить вершину\n",
    "# 6. Определить промежутки, на котором f > 0\n",
    "# 7. Определить промежутки, на котором f < 0"
   ]
  },
  {
   "cell_type": "code",
   "execution_count": 3,
   "id": "9faccd35",
   "metadata": {
    "scrolled": true
   },
   "outputs": [],
   "source": [
    "from sympy import Symbol, diff, plot, S, Interval\n",
    "from sympy.solvers import solve, solveset\n",
    "from sympy import pi, sin, cos, periodicity, simplify, trigsimp, evalf, Derivative"
   ]
  },
  {
   "cell_type": "code",
   "execution_count": 4,
   "id": "102dc7cd",
   "metadata": {},
   "outputs": [
    {
     "data": {
      "text/latex": [
       "$\\displaystyle \\left(\\frac{\\sin{\\left(x \\right)}}{2} + \\frac{\\cos{\\left(x \\right)}}{2}\\right)^{2} \\sin{\\left(x \\right)}$"
      ],
      "text/plain": [
       "(sin(x)/2 + cos(x)/2)**2*sin(x)"
      ]
     },
     "execution_count": 4,
     "metadata": {},
     "output_type": "execute_result"
    }
   ],
   "source": [
    "x = Symbol('x', real = True)\n",
    "y = (sin(x)/2 + cos(x)/2)**2 * sin(x)\n",
    "y"
   ]
  },
  {
   "cell_type": "code",
   "execution_count": 5,
   "id": "792d3750",
   "metadata": {},
   "outputs": [
    {
     "data": {
      "text/plain": [
       "[0, -pi/4, 3*pi/4, pi]"
      ]
     },
     "execution_count": 5,
     "metadata": {},
     "output_type": "execute_result"
    }
   ],
   "source": [
    "# Определяем корни\n",
    "extremum = solve(y, x)\n",
    "extremum"
   ]
  },
  {
   "cell_type": "code",
   "execution_count": 6,
   "id": "e31b8bdf",
   "metadata": {},
   "outputs": [
    {
     "data": {
      "text/latex": [
       "$\\displaystyle \\left(- \\sin{\\left(x \\right)} + \\cos{\\left(x \\right)}\\right) \\left(\\frac{\\sin{\\left(x \\right)}}{2} + \\frac{\\cos{\\left(x \\right)}}{2}\\right) \\sin{\\left(x \\right)} + \\left(\\frac{\\sin{\\left(x \\right)}}{2} + \\frac{\\cos{\\left(x \\right)}}{2}\\right)^{2} \\cos{\\left(x \\right)}$"
      ],
      "text/plain": [
       "(-sin(x) + cos(x))*(sin(x)/2 + cos(x)/2)*sin(x) + (sin(x)/2 + cos(x)/2)**2*cos(x)"
      ]
     },
     "execution_count": 6,
     "metadata": {},
     "output_type": "execute_result"
    }
   ],
   "source": [
    "derivate = diff(y, x)\n",
    "derivate"
   ]
  },
  {
   "cell_type": "code",
   "execution_count": 7,
   "id": "47c6efff",
   "metadata": {},
   "outputs": [
    {
     "data": {
      "text/latex": [
       "$\\displaystyle 2 \\pi$"
      ],
      "text/plain": [
       "2*pi"
      ]
     },
     "execution_count": 7,
     "metadata": {},
     "output_type": "execute_result"
    }
   ],
   "source": [
    "periodicity(y, x)"
   ]
  },
  {
   "cell_type": "code",
   "execution_count": 8,
   "id": "31e2ab30",
   "metadata": {},
   "outputs": [
    {
     "data": {
      "text/plain": [
       "[-pi/4,\n",
       " 3*pi/4,\n",
       " -2*atan(-3/2 + sqrt(6)*sqrt(5 - sqrt(17))/2 + sqrt(17)/2),\n",
       " 2*atan(3/2 + sqrt(17)/2 + sqrt(6)*sqrt(sqrt(17) + 5)/2),\n",
       " 2*atan(-sqrt(17)/2 + sqrt(6)*sqrt(5 - sqrt(17))/2 + 3/2),\n",
       " 2*atan(-sqrt(6)*sqrt(sqrt(17) + 5)/2 + 3/2 + sqrt(17)/2)]"
      ]
     },
     "execution_count": 8,
     "metadata": {},
     "output_type": "execute_result"
    }
   ],
   "source": [
    "deriv_roots = solve(derivate, x)\n",
    "deriv_roots"
   ]
  },
  {
   "cell_type": "code",
   "execution_count": 9,
   "id": "5e64134c",
   "metadata": {},
   "outputs": [
    {
     "data": {
      "text/plain": [
       "[-2*pi, -0.79, 2.36, -2.08, 2.87, 1.06, -0.27, 2*pi]"
      ]
     },
     "execution_count": 9,
     "metadata": {},
     "output_type": "execute_result"
    }
   ],
   "source": [
    "deriv_roots_list = []\n",
    "for i in deriv_roots:\n",
    "    deriv_roots_list.append(round(i.evalf(),2))\n",
    "deriv_roots_list.insert(0, -2*pi)\n",
    "deriv_roots_list.append(2*pi)\n",
    "deriv_roots_list"
   ]
  },
  {
   "cell_type": "code",
   "execution_count": 10,
   "id": "f0b49df5",
   "metadata": {},
   "outputs": [
    {
     "data": {
      "text/plain": [
       "[-2*pi, -2.08, -0.79, -0.27, 1.06, 2.36, 2.87, 2*pi]"
      ]
     },
     "execution_count": 10,
     "metadata": {},
     "output_type": "execute_result"
    }
   ],
   "source": [
    "deriv_roots_list.sort()\n",
    "deriv_roots_list"
   ]
  },
  {
   "cell_type": "code",
   "execution_count": 13,
   "id": "bf352564",
   "metadata": {},
   "outputs": [
    {
     "data": {
      "text/plain": [
       "[Interval(-2*pi, -2.08),\n",
       " Interval(-2.08, -0.79),\n",
       " Interval(-0.79, -0.27),\n",
       " Interval(-0.27, 1.06),\n",
       " Interval(1.06, 2.36),\n",
       " Interval(2.36, 2.87),\n",
       " Interval(2.87, 2*pi)]"
      ]
     },
     "execution_count": 13,
     "metadata": {},
     "output_type": "execute_result"
    }
   ],
   "source": [
    "intervals = []\n",
    "i = 0\n",
    "for i in range(0, len(deriv_roots_list)-1):\n",
    "    intervals.append(Interval(deriv_roots_list[i], deriv_roots_list[i+1]))\n",
    "    i = i + 1\n",
    "intervals"
   ]
  },
  {
   "cell_type": "code",
   "execution_count": 14,
   "id": "d7097d5f",
   "metadata": {},
   "outputs": [
    {
     "name": "stdout",
     "output_type": "stream",
     "text": [
      "Interval(-2*pi, -2.08) - функция убывает\n",
      "Interval(-2.08, -0.79) - функция убывает\n",
      "Interval(-0.79, -0.27) - функция убывает\n",
      "Interval(-0.27, 1.06) - функция возрастает\n",
      "Interval(1.06, 2.36) - функция возрастает\n",
      "Interval(2.36, 2.87) - функция возрастает\n",
      "Interval(2.87, 2*pi) - функция возрастает\n"
     ]
    }
   ],
   "source": [
    "# Находим интервалы на которых функция возрастает\n",
    "for i in range(0, len(deriv_roots_list)-1):\n",
    "    point = round((deriv_roots_list[i] + (deriv_roots_list[i+1] - deriv_roots_list[i])/2).evalf(),2)\n",
    "    if point > 0:\n",
    "        print(f'{intervals[i]} - функция возрастает')\n",
    "    else: \n",
    "        print(f'{intervals[i]} - функция убывает')"
   ]
  },
  {
   "cell_type": "code",
   "execution_count": 15,
   "id": "1bb1a508",
   "metadata": {},
   "outputs": [
    {
     "data": {
      "image/png": "[encoded data removed]",
      "text/plain": [
       "<Figure size 640x480 with 1 Axes>"
      ]
     },
     "metadata": {},
     "output_type": "display_data"
    }
   ],
   "source": [
    "# Строим график\n",
    "function_graph = plot(y, (x, -2*pi, 2*pi))"
   ]
  },
  {
   "cell_type": "code",
   "execution_count": 16,
   "id": "34523c30",
   "metadata": {},
   "outputs": [
    {
     "name": "stdout",
     "output_type": "stream",
     "text": [
      "Вершины функции:\n",
      "\n",
      "1: x = -2.08, y = -0.40\n",
      "2: x = -0.79, y = 0.0\n",
      "3: x = -0.27, y = -0.03\n",
      "4: x = 1.06, y = 0.40\n",
      "5: x = 2.36, y = 0.0\n",
      "6: x = 2.87, y = 0.03\n"
     ]
    }
   ],
   "source": [
    "# Вычислям вершины\n",
    "function_top = deriv_roots_list[1:-1]\n",
    "count = 1\n",
    "print('Вершины функции:\\n')\n",
    "for i in function_top:\n",
    "    print(f'{count}: x = {i}, y = {round(y.subs(x, i).evalf(),2)}')\n",
    "    count += 1"
   ]
  },
  {
   "cell_type": "code",
   "execution_count": 21,
   "id": "379cd1dd",
   "metadata": {},
   "outputs": [
    {
     "data": {
      "text/latex": [
       "$\\displaystyle \\left(0, \\frac{3 \\pi}{4}\\right) \\cup \\left(\\frac{3 \\pi}{4}, \\pi\\right)$"
      ],
      "text/plain": [
       "Union(Interval.open(0, 3*pi/4), Interval.open(3*pi/4, pi))"
      ]
     },
     "execution_count": 21,
     "metadata": {},
     "output_type": "execute_result"
    }
   ],
   "source": [
    "# Определяем промежутки, на котором f > 0\n",
    "solveset(y > 0, x, S.Reals)"
   ]
  },
  {
   "cell_type": "code",
   "execution_count": 22,
   "id": "5d05975b",
   "metadata": {},
   "outputs": [
    {
     "data": {
      "text/latex": [
       "$\\displaystyle \\left(\\pi, \\frac{7 \\pi}{4}\\right) \\cup \\left(\\frac{7 \\pi}{4}, 2 \\pi\\right)$"
      ],
      "text/plain": [
       "Union(Interval.open(pi, 7*pi/4), Interval.open(7*pi/4, 2*pi))"
      ]
     },
     "execution_count": 22,
     "metadata": {},
     "output_type": "execute_result"
    }
   ],
   "source": [
    "# Определяем промежутки, на котором f < 0\n",
    "solveset(y < 0, x, S.Reals)"
   ]
  }
 ],
 "metadata": {
  "kernelspec": {
   "display_name": "Python 3 (ipykernel)",
   "language": "python",
   "name": "python3"
  },
  "language_info": {
   "codemirror_mode": {
    "name": "ipython",
    "version": 3
   },
   "file_extension": ".py",
   "mimetype": "text/x-python",
   "name": "python",
   "nbconvert_exporter": "python",
   "pygments_lexer": "ipython3",
   "version": "3.9.13"
  }
 },
 "nbformat": 4,
 "nbformat_minor": 5
}
